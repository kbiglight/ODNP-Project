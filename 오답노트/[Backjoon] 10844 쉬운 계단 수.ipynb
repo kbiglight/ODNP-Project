{
 "cells": [
  {
   "cell_type": "markdown",
   "metadata": {
    "pycharm": {
     "name": "#%% md\n"
    }
   },
   "source": [
    "# **[Backjoon] 10844 쉬운 계단 수**\n",
    "### 2020.08.05 작성"
   ]
  },
  {
   "cell_type": "markdown",
   "metadata": {
    "pycharm": {
     "name": "#%% md\n"
    }
   },
   "source": [
    "![그림](./img/backjoon_10844.jpg)"
   ]
  },
  {
   "cell_type": "code",
   "execution_count": null,
   "metadata": {},
   "outputs": [],
   "source": [
    "# solution\n",
    "def solution(n):\n",
    "    answer = 0\n",
    "    \n",
    "    return answer"
   ]
  },
  {
   "cell_type": "code",
   "execution_count": 16,
   "metadata": {},
   "outputs": [
    {
     "ename": "NameError",
     "evalue": "name 'solution' is not defined",
     "output_type": "error",
     "traceback": [
      "\u001B[1;31m---------------------------------------------------------------------------\u001B[0m",
      "\u001B[1;31mNameError\u001B[0m                                 Traceback (most recent call last)",
      "\u001B[1;32m<ipython-input-16-148ce7169c3a>\u001B[0m in \u001B[0;36m<module>\u001B[1;34m\u001B[0m\n\u001B[0;32m      7\u001B[0m \u001B[1;33m\u001B[0m\u001B[0m\n\u001B[0;32m      8\u001B[0m \u001B[0mn\u001B[0m \u001B[1;33m=\u001B[0m \u001B[0mint\u001B[0m\u001B[1;33m(\u001B[0m\u001B[0minput\u001B[0m\u001B[1;33m(\u001B[0m\u001B[1;33m)\u001B[0m\u001B[1;33m)\u001B[0m\u001B[1;33m\u001B[0m\u001B[1;33m\u001B[0m\u001B[0m\n\u001B[1;32m----> 9\u001B[1;33m \u001B[0mresult\u001B[0m \u001B[1;33m=\u001B[0m \u001B[0msolution\u001B[0m\u001B[1;33m(\u001B[0m\u001B[0mn\u001B[0m\u001B[1;33m)\u001B[0m\u001B[1;33m\u001B[0m\u001B[1;33m\u001B[0m\u001B[0m\n\u001B[0m",
      "\u001B[1;31mNameError\u001B[0m: name 'solution' is not defined"
     ]
    }
   ],
   "source": [
    "# Test Code\n",
    "\n",
    "import sys\n",
    "\n",
    "input: () = lambda: sys.stdin.readline().strip()\n",
    "sys.stdin = open(\"../backjoon/inputs/input_10844\")\n",
    "\n",
    "n = int(input())\n",
    "result = solution(n)"
   ]
  },
  {
   "cell_type": "markdown",
   "metadata": {},
   "source": [
    "### 문제 분석\n",
    "\n",
    "이 문제를 보고 가장 먼저 드는 생각은 (K자리수의 어느 계단 수) 뒤에 마지막 자릿 수로부터 ± 1 해준 값을\n",
    "붙여주면 된다는 것이다.\n",
    "\n",
    ">\"이전으로부터 값을 참조하여 새로운 값을 만든다\"\n",
    "\n",
    "을 통해 이 문제는 **Dynamic Programming**임을 알 수 있다..\n",
    "\n",
    "DP임을 파악했다면 **\"어떤 것을 저장해주고 꺼내써야할지를 결정\"** 해야 한다.  \n",
    "여기서는 이전 값을 골라 저장해주기로 결정하여 먼저 cache의 크기를 N자리 만큼을 만들어준다.\n",
    "\n",
    "그리고 DP문제를 풀 때 가장 중요한, 점화식을 분석해야 한다.\n",
    "- 먼저 N이 1일 때는, 즉 한 자리 수일 때는 1~9로 9가지가 될 것이다.\n",
    "- N이 2인 두 자리 수일 경우, \n",
    "    - 간단하게 생각해서 N=1인 경우에서 2를 곱한 것이다.\n",
    "    - 하지만 9의 경우, ± 1의 값은 8과 10(?)이다.\n",
    "    - 따라서 2를 곱한 후 910인 경우를 빼줘야 한다.\n",
    "\n",
    "이 과정을 통해 알 수 있는 법칙은 k자리의 경우 k-1의 값이  ± 1 해줬을때 0~9가 아닐 경우를 빼주는 것이다.\n",
    "\n",
    "나는 이 과정에서 규칙성은 깨달았지만 어떤 식으로 이 문제를 풀어나가야 하는지에 대한 접근을 하지 못했다.  \n",
    "이렇게 때문에 이렇게 오답노트를 적는다.\n",
    "\n",
    "먼저 시도한 코드다. 단순히 N이 1, 2, 3일때만 고려해서 충분한 검토를 거치지 못해 오류가 있는 풀이다."
   ]
  },
  {
   "cell_type": "code",
   "execution_count": 1,
   "metadata": {
    "pycharm": {
     "name": "#%%\n"
    }
   },
   "outputs": [],
   "source": [
    "from util import DatetimeDecorator\n",
    "\n",
    "@DatetimeDecorator\n",
    "def stair_num_count(n):\n",
    "    cache = [0 for _ in range(n + 1)]\n",
    "\n",
    "    if n >= 1:\n",
    "        cache[1] = 9\n",
    "    if n >= 2:\n",
    "        for i in range(2, n + 1):\n",
    "            cache[i] = 2 * cache[i - 1] - (i - 1) * i // 2 # ?\n",
    "\n",
    "    print(cache)\n",
    "    answer = cache[n]\n",
    "    return answer"
   ]
  },
  {
   "cell_type": "code",
   "execution_count": 15,
   "metadata": {
    "pycharm": {
     "name": "#%%\n"
    }
   },
   "outputs": [
    {
     "name": "stdout",
     "output_type": "stream",
     "text": [
      "[0, 9, 17, 31]\n",
      "WorkingTime[get_stair_num_count]: 0.0004973000000063621 sec\n",
      "31\n"
     ]
    }
   ],
   "source": [
    "sys.stdin = open(\"../backjoon/inputs/input_10844\")\n",
    "\n",
    "n = int(input())\n",
    "result = stair_num_count(n)\n",
    "print(result)"
   ]
  },
  {
   "cell_type": "markdown",
   "metadata": {
    "pycharm": {
     "name": "#%% md\n"
    }
   },
   "source": [
    "N이 2일때는 값은 맞지만 경우의 수 파악을 잘못하여 맞다고 생각하고 풀어 3부터는 하나도 안맞는 깔끔한 오답.  \n",
    "\n",
    "이 때 생각난 것이 각 단계에서 얼마나 문제가 발생하는 수가 나오는지 확실하게 알아보고 싶어져서  \n",
    "그래서 가장 무식하면서 확실한 방법으로 무엇이 문제인지를 확인해보았다."
   ]
  },
  {
   "cell_type": "code",
   "execution_count": 23,
   "metadata": {
    "pycharm": {
     "name": "#%%\n"
    }
   },
   "outputs": [],
   "source": [
    "@DatetimeDecorator\n",
    "# 무식하지만 아주 확실한 방법\n",
    "# N이 5, 즉 5자리일 때 발생하는 문제발생 수의 갯수 출력\n",
    "def start_num_list(n):\n",
    "    cache = [0 for _ in range(n)]\n",
    "\n",
    "    count = 0\n",
    "    prob_count = 0\n",
    "    for i in range(0, 10):\n",
    "        if i == 0:\n",
    "            continue\n",
    "        for j in range(0, 10):\n",
    "            if j == i + 1 or j == i - 1:\n",
    "                # print(i * 10 + j)\n",
    "                for k in range(0, 10):\n",
    "                    if k == j + 1 or k == j - 1:\n",
    "                        # print(i * 100 + j * 10 + k)\n",
    "                        for l in range(0, 10):\n",
    "                            if l == k + 1 or l == k - 1:\n",
    "                                # print(i * 1000 + j * 100 + k * 10 + l)\n",
    "                                for h in range(0, 10):\n",
    "                                    if h == l + 1 or h == l - 1:\n",
    "                                        print(i * 10000 + j * 1000 + k * 100 + l * 10 + h)\n",
    "                                        count += 1\n",
    "                                        if h == 0 or h == 9:\n",
    "                                            # print(i * 10000 + j * 1000 + k * 100 + l * 10 + h)\n",
    "                                            prob_count += 1\n",
    "\n",
    "    print(count, prob_count)\n",
    "    return count"
   ]
  },
  {
   "cell_type": "code",
   "execution_count": 25,
   "metadata": {
    "collapsed": true,
    "pycharm": {
     "name": "#%%\n"
    }
   },
   "outputs": [
    {
     "name": "stdout",
     "output_type": "stream",
     "text": [
      "10101\n",
      "10121\n",
      "10123\n",
      "12101\n",
      "12121\n",
      "12123\n",
      "12321\n",
      "12323\n",
      "12343\n",
      "12345\n",
      "21010\n",
      "21012\n",
      "21210\n",
      "21212\n",
      "21232\n",
      "21234\n",
      "23210\n",
      "23212\n",
      "23232\n",
      "23234\n",
      "23432\n",
      "23434\n",
      "23454\n",
      "23456\n",
      "32101\n",
      "32121\n",
      "32123\n",
      "32321\n",
      "32323\n",
      "32343\n",
      "32345\n",
      "34321\n",
      "34323\n",
      "34343\n",
      "34345\n",
      "34543\n",
      "34545\n",
      "34565\n",
      "34567\n",
      "43210\n",
      "43212\n",
      "43232\n",
      "43234\n",
      "43432\n",
      "43434\n",
      "43454\n",
      "43456\n",
      "45432\n",
      "45434\n",
      "45454\n",
      "45456\n",
      "45654\n",
      "45656\n",
      "45676\n",
      "45678\n",
      "54321\n",
      "54323\n",
      "54343\n",
      "54345\n",
      "54543\n",
      "54545\n",
      "54565\n",
      "54567\n",
      "56543\n",
      "56545\n",
      "56565\n",
      "56567\n",
      "56765\n",
      "56767\n",
      "56787\n",
      "56789\n",
      "65432\n",
      "65434\n",
      "65454\n",
      "65456\n",
      "65654\n",
      "65656\n",
      "65676\n",
      "65678\n",
      "67654\n",
      "67656\n",
      "67676\n",
      "67678\n",
      "67876\n",
      "67878\n",
      "67898\n",
      "76543\n",
      "76545\n",
      "76565\n",
      "76567\n",
      "76765\n",
      "76767\n",
      "76787\n",
      "76789\n",
      "78765\n",
      "78767\n",
      "78787\n",
      "78789\n",
      "78987\n",
      "78989\n",
      "87654\n",
      "87656\n",
      "87676\n",
      "87678\n",
      "87876\n",
      "87878\n",
      "87898\n",
      "89876\n",
      "89878\n",
      "89898\n",
      "98765\n",
      "98767\n",
      "98787\n",
      "98789\n",
      "98987\n",
      "98989\n",
      "116 10\n",
      "WorkingTime[get_start_num_list]: 0.01947699999982433 sec\n",
      "[0, 9, 17, 31]\n",
      "WorkingTime[get_stair_num_count]: 0.00010029999975813553 sec\n"
     ]
    }
   ],
   "source": [
    "sys.stdin = open(\"../backjoon/inputs/input_10844\")\n",
    "\n",
    "n1 = int(input())\n",
    "count = start_num_list(n)\n",
    "result = stair_num_count(n)"
   ]
  },
  {
   "cell_type": "markdown",
   "metadata": {},
   "source": [
    "이 결과에서 가장 중요하게 봐야 할 부분은 **십의 자리(N=4)** 부분이다.\n",
    "\n",
    "- 일의 자리에 0이 오는 경우에는 십의 자리는 1로 통일\n",
    "- 일의 자리에 9이 오는 경우에는 십의 자리는 8로 통일\n",
    "되어 있다. 이 값들은 6자리 수를 구할 때 ± 1이 성립하지 못하니 빼주게 될 것이다.\n",
    "\n",
    "여기서 예측을 할 수 있는 부분은 k자리 계단 수를 구할 때,  \n",
    "- ± 1 이 성립되지 않는 0과 9로 끝나는 수는 k-1의 1과 8로 끝나는 수이다.\n",
    "- **1로 끝나는 수는 k-1에서 0으로 끝나는 수와 2로 끝나는 수의 갯수의 합이다** --- ★\n",
    "- **2로 끝나는 수는 k-1에서 1로 끝나는 수와 3으로 끝나는 수의 갯수의 합이다**\n",
    "- etc...  \n",
    "\n",
    "이전에 생각하기로는 그냥 단순히 이전 단계에서의 2배를 한 뒤에 ± 1이 안되는 수를 빼는 식으로 접근했지만  \n",
    "보는 시선이 잘못되었다. 이 덧셈 구조는 흡사 파스칼의 삼각형을 연상시키는 덧셈의 구조로 만들어진다.\n",
    "\n",
    "위에서 DP는 **\"어떤 것을 저장해주고 꺼내써야할지를 결정\"** 하는 것이 중요하다고 했다.  \n",
    "이렇게되면 저장해야 하는 값은 **끝자리 수의 경우(0~9)** 가 될 것이다.  \n",
    "그리고 각 자리수에 대한 케이스도 나눠야 하니 cache의 길이도 n이 될 것이다.  \n",
    "\n",
    "위의 정보를 토대로 정리하면  \n",
    "cache는 n길이를 가지며 각 요소에는 0~9의 값을 리스트로 가지는 쉽게 말해 2차원 배열이 될 것이다."
   ]
  },
  {
   "cell_type": "code",
   "execution_count": 26,
   "metadata": {},
   "outputs": [],
   "source": [
    "# Final Soultion\n",
    "def final_solution(n):\n",
    "    # n길이를 가지며 각 요소에는 0~9의 값을 리스트로 가지는 쉽게 말해 2차원 배열\n",
    "    answer = 0\n",
    "    cache = [[0 for _ in range(10)] for _ in range(n+1)]\n",
    "    \n",
    "    # cache에 기본 값 넣어주기 (sum(cache[1]) = 9)\n",
    "    for i in range(10):\n",
    "        # 허가 받는 것보다 용서 받는게 더 쉽다 \n",
    "        if i == 0: \n",
    "            continue\n",
    "        cache[1][i] = 1\n",
    "        \n",
    "   # cache를 n=2부터 채워나간다.     \n",
    "    for i in range(2, n+1):\n",
    "        for j in range(10):\n",
    "            if j == 0:\n",
    "                cache[i][j] =  cache[i-1][j+1]\n",
    "            elif j == 9:\n",
    "                cache[i][j] = cache[i-1][j-1]\n",
    "            else:\n",
    "                cache[i][j] = cache[i-1][j+1] + cache[i-1][j-1]\n",
    "    answer = sum(cache[n])\n",
    "    return answer"
   ]
  },
  {
   "cell_type": "code",
   "execution_count": 28,
   "metadata": {},
   "outputs": [
    {
     "name": "stdout",
     "output_type": "stream",
     "text": [
      "116\n"
     ]
    }
   ],
   "source": [
    "sys.stdin = open(\"../backjoon/inputs/input_10844\")\n",
    "\n",
    "n = int(input())\n",
    "result = final_solution(n)\n",
    "print(result % 1000000000) # 나누기 1000000000 잊지 말기"
   ]
  }
 ],
 "metadata": {
  "kernelspec": {
   "display_name": "Python 3",
   "language": "python",
   "name": "python3"
  },
  "language_info": {
   "codemirror_mode": {
    "name": "ipython",
    "version": 3
   },
   "file_extension": ".py",
   "mimetype": "text/x-python",
   "name": "python",
   "nbconvert_exporter": "python",
   "pygments_lexer": "ipython3",
   "version": "3.8.3"
  }
 },
 "nbformat": 4,
 "nbformat_minor": 1
}