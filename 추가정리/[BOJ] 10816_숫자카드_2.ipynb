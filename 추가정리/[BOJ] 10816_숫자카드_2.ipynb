{
 "cells": [
  {
   "cell_type": "markdown",
   "metadata": {
    "collapsed": true,
    "pycharm": {
     "name": "#%% md\n"
    }
   },
   "source": [
    "# [BOJ] 10816번 숫자 카드 2 - 다양한 풀이 : 이분탐색, 해시, Counter\n",
    "## 2020.08.10\n",
    "###### 작성중..."
   ]
  },
  {
   "cell_type": "markdown",
   "source": [
    "### 문제\n",
    "\n",
    "숫자 카드는 정수 하나가 적혀져 있는 카드이다. 상근이는 숫자 카드 N개를 가지고 있다.\n",
    "정수 M개가 주어졌을 때, 이 수가 적혀있는 숫자 카드를 상근이가 몇 개 가지고 있는지 구하는 프로그램을 작성하시오.\n",
    "\n",
    "### 입력\n",
    "\n",
    "첫째 줄에 상근이가 가지고 있는 숫자 카드의 개수 N(1 ≤ N ≤ 500,000)이가 주어진다. 둘째 줄에는 숫자 카드에 적혀있는 정수가 주어진다.\n",
    "숫자 카드에 적혀있는 수는 -10,000,000보다 크거나 같고, 10,000,000보다 작거나 같다.\n",
    "\n",
    "셋째 줄에는 M(1 ≤ M ≤ 500,000)이 주어진다. 넷째 줄에는 상근이가 몇 개 가지고 있는 숫자 카드인지 구해야 할 M개의 정수가 주어지며,\n",
    "이 수는 공백으로 구분되어 있다. 이수도 -10,000,000보다 크거나 같고, 10,000,000보다 작거나 같다.\n",
    "\n",
    "### 출력\n",
    "\n",
    "첫째 줄에 입력으로 주어진 M개의 수에 대해서, 각 수가 적힌 숫자 카드를 상근이가 몇 개 가지고 있는지를 공백으로 구분해 출력한다.\n",
    "\n",
    "### 조건\n",
    "\n",
    "| time limit \t| memory \t|\n",
    "|:----------:\t|:------:\t|\n",
    "|    1 sec   \t|  256MB \t|\n",
    "\n",
    "### 예제 입력\n",
    "\n",
    "10\n",
    "6 3 2 10 10 10 -10 -10 7 3\n",
    "8\n",
    "10 9 -5 2 3 4 5 -10\n",
    "\n",
    "### 예제 출력\n",
    "\n",
    "3 0 0 1 2 0 0 2"
   ],
   "metadata": {
    "collapsed": false,
    "pycharm": {
     "name": "#%% md\n"
    }
   }
  },
  {
   "cell_type": "markdown",
   "source": [
    "### 문제 풀이\n",
    "\n",
    "### Solution #1  Check List 활용"
   ],
   "metadata": {
    "collapsed": false
   }
  },
  {
   "cell_type": "code",
   "execution_count": 19,
   "outputs": [
    {
     "name": "stdout",
     "output_type": "stream",
     "text": [
      "WorkingTime[solution]: 0.0671 msec\n",
      "3 0 0 1 2 0 0 2\n"
     ]
    }
   ],
   "source": [
    "import sys\n",
    "import math\n",
    "from util import DatetimeDecorator\n",
    "\n",
    "input: () = lambda: sys.stdin.readline().strip()\n",
    "# file input\n",
    "sys.stdin = open('../code/2020.08.10/inputs/input_boj_10816', 'r')\n",
    "\n",
    "\n",
    "@DatetimeDecorator\n",
    "def solution(n, n_card_list, m, m_card_list):\n",
    "    answer = []\n",
    "    count_list = [0 for _ in range(min(n_card_list), max(n_card_list) + 1)]\n",
    "\n",
    "    for card in n_card_list:\n",
    "        count_list[card + abs(min(n_card_list))] += 1\n",
    "\n",
    "    for card in m_card_list:\n",
    "        answer.append(count_list[card + abs(min(n_card_list))])\n",
    "\n",
    "    return ' '.join(map(str, answer))\n",
    "\n",
    "\n",
    "n = int(input())\n",
    "n_card_list = list(map(int, input().split()))\n",
    "\n",
    "m = int(input())\n",
    "m_card_list = list(map(int, input().split()))\n",
    "\n",
    "result = solution(n, n_card_list, m, m_card_list)\n",
    "print(result)"
   ],
   "metadata": {
    "collapsed": false,
    "pycharm": {
     "name": "#%%\n"
    }
   }
  },
  {
   "cell_type": "markdown",
   "source": [
    "#### 해설\n",
    "확인 하는 방법으로는 checklist를 작성하는 방법이 가장 깔끔하다.\n",
    "1. 상근이가 가지고 있는 가장 작은 값과 큰 값을 통해 checklist 생성. 각 값은 0으로 초기화\n",
    "1. 상근이 가지고 있는 숫자를 indexing(숫자 + 최소값의 절대값)을 하여 checklist에 1을 추가\n",
    "1. 정수 리스트에 들어가 있는 숫자를 통해 checklist에 저장된 값을 Call. 이 값을 answer list에 저장\n",
    "\n",
    "\n",
    "- 위 방법은 확인하는 과정을 O(1)로 가장 빠른 방법.\n",
    "- 하지만 N의 크기에 따라 리스트의 크기가 커지며 M의 크기에 따라 불필요한 메모리를 잡아먹음\n",
    "\n",
    "실제로 위와 같은 방법으로 제출하면 **시간초과**의 결과를 얻게 된다."
   ],
   "metadata": {
    "collapsed": false
   }
  },
  {
   "cell_type": "markdown",
   "source": [
    "### Solution #2 - 이분 탐색 활용"
   ],
   "metadata": {
    "collapsed": false,
    "pycharm": {
     "name": "#%% md\n"
    }
   }
  },
  {
   "cell_type": "code",
   "execution_count": 18,
   "outputs": [
    {
     "name": "stdout",
     "output_type": "stream",
     "text": [
      "WorkingTime[solution]: 0.0477 msec\n",
      "[3, 0, 0, 1, 2, 0, 0, 2]\n"
     ]
    }
   ],
   "source": [
    "import sys\n",
    "from util import DatetimeDecorator\n",
    "\n",
    "input: () = lambda: sys.stdin.readline().strip()\n",
    "# file input\n",
    "sys.stdin = open('../code/2020.08.10/inputs/input_boj_10816', 'r')\n",
    "\n",
    "\n",
    "@DatetimeDecorator\n",
    "def solution(n, n_card_list, m, m_card_list):\n",
    "    answer = []\n",
    "    n_card_list.sort()\n",
    "\n",
    "    for card in m_card_list:\n",
    "        start, end = 0, n-1\n",
    "        while start <= end:\n",
    "            mid = (start + end) // 2\n",
    "            if card == n_card_list[mid]:\n",
    "                answer.append(n_card_list[start:end+1].count(card))\n",
    "                break\n",
    "            elif card > n_card_list[mid]:\n",
    "                start = mid + 1\n",
    "            else :\n",
    "                end = mid - 1\n",
    "\n",
    "        if start > end:\n",
    "            answer.append(0)\n",
    "    return answer\n",
    "\n",
    "n = int(input())\n",
    "n_card_list = list(map(int, input().split()))\n",
    "\n",
    "m = int(input())\n",
    "m_card_list = list(map(int, input().split()))\n",
    "\n",
    "result = solution(n, n_card_list, m, m_card_list)\n",
    "print(result)"
   ],
   "metadata": {
    "collapsed": false,
    "pycharm": {
     "name": "#%%\n"
    }
   }
  },
  {
   "cell_type": "markdown",
   "source": [
    "\n"
   ],
   "metadata": {
    "collapsed": false,
    "pycharm": {
     "name": "#%% md\n"
    }
   }
  },
  {
   "cell_type": "code",
   "execution_count": 19,
   "outputs": [],
   "source": [],
   "metadata": {
    "collapsed": false,
    "pycharm": {
     "name": "#%%\n"
    }
   }
  },
  {
   "cell_type": "markdown",
   "source": [
    "### Solution #3 번외 : Counter\n",
    "\n",
    "자료구조에 관련하여 많은 도움을 주는 Collections라는 모듈에는 자주 쓰이는 Deque 클래스 말고도 List의 요소들의 각각의 갯수를 파악하는\n",
    "Counter라는 클래스가 있다. `counter = Counter([list])`이런 식으로 생성자를 호출하게 되면\n",
    "리스트의 내용을 갯수대로 파악하여 Counter 객체를 반환한다. 이 때 반환된 Counter의 객체는 dict객체와 흡사하다."
   ],
   "metadata": {
    "collapsed": false,
    "pycharm": {
     "name": "#%% md\n"
    }
   }
  },
  {
   "cell_type": "code",
   "execution_count": 10,
   "outputs": [
    {
     "name": "stdout",
     "output_type": "stream",
     "text": [
      "[6, 3, 2, 10, 10, 10, -10, -10, 7, 3]\n",
      "Counter({10: 3, 3: 2, -10: 2, 6: 1, 2: 1, 7: 1})\n",
      "<class 'collections.Counter'>\n",
      "3\n"
     ]
    }
   ],
   "source": [
    "# Counter의 예시 코드. input은 이번 문제의 N의 리스트와 동일\n",
    "n_list = list(map(int, \"6 3 2 10 10 10 -10 -10 7 3\".split()))\n",
    "print(n_list)\n",
    "\n",
    "from collections import Counter\n",
    "counter = Counter(n_list)\n",
    "print(counter) # counter에 저장된 내용 확인\n",
    "print(type(counter)) # Counter로 생성된 객체의 type확인\n",
    "print(counter[10]) # 접근방법은 dict 객체와 동일"
   ],
   "metadata": {
    "collapsed": false,
    "pycharm": {
     "name": "#%%\n"
    }
   }
  },
  {
   "cell_type": "markdown",
   "source": [
    "결과적으로는 N의 리스트를 Counter로 변환한 다음 M의 리스트 요소와 비교하여 key값과 일치한 값이 있다면 value를 append해주고\n",
    "없다면 0을 append해주면 된다."
   ],
   "metadata": {
    "collapsed": false,
    "pycharm": {
     "name": "#%% md\n"
    }
   }
  },
  {
   "cell_type": "code",
   "execution_count": 22,
   "outputs": [
    {
     "name": "stdout",
     "output_type": "stream",
     "text": [
      "WorkingTime[solution]: 0.0862 msec\n",
      "3 0 0 1 2 0 0 2\n"
     ]
    }
   ],
   "source": [
    "import sys\n",
    "from collections import Counter\n",
    "from util import DatetimeDecorator\n",
    "\n",
    "input: () = lambda: sys.stdin.readline().strip()\n",
    "# file input\n",
    "sys.stdin = open('../code/2020.08.10/inputs/input_boj_10816', 'r')\n",
    "\n",
    "\n",
    "@DatetimeDecorator\n",
    "def solution(n, n_card_list, m, m_card_list):\n",
    "    answer = []\n",
    "    counter = Counter(n_card_list)\n",
    "    count_list = [0 for _ in range(min(n_card_list), max(n_card_list) + 1)]\n",
    "\n",
    "    for card in n_card_list:\n",
    "        count_list[card + abs(min(n_card_list))] += 1\n",
    "\n",
    "    for card in m_card_list:\n",
    "        answer.append(counter[card])\n",
    "\n",
    "    return ' '.join(map(str, answer))\n",
    "\n",
    "\n",
    "n = int(input())\n",
    "n_card_list = list(map(int, input().split()))\n",
    "\n",
    "m = int(input())\n",
    "m_card_list = list(map(int, input().split()))\n",
    "\n",
    "result = solution(n, n_card_list, m, m_card_list)\n",
    "print(result)\n"
   ],
   "metadata": {
    "collapsed": false,
    "pycharm": {
     "name": "#%%\n"
    }
   }
  }
 ],
 "metadata": {
  "kernelspec": {
   "display_name": "Python 3",
   "language": "python",
   "name": "python3"
  },
  "language_info": {
   "codemirror_mode": {
    "name": "ipython",
    "version": 2
   },
   "file_extension": ".py",
   "mimetype": "text/x-python",
   "name": "python",
   "nbconvert_exporter": "python",
   "pygments_lexer": "ipython2",
   "version": "2.7.6"
  }
 },
 "nbformat": 4,
 "nbformat_minor": 0
}