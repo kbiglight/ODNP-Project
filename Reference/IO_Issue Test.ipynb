{
 "nbformat": 4,
 "nbformat_minor": 0,
 "metadata": {
  "colab": {
   "name": "Untitled4.ipynb",
   "provenance": [],
   "collapsed_sections": []
  },
  "kernelspec": {
   "name": "python3",
   "language": "python",
   "display_name": "Python 3"
  }
 },
 "cells": [
  {
   "cell_type": "code",
   "metadata": {
    "id": "wf7fehNJ1A4c",
    "colab_type": "code",
    "colab": {
     "base_uri": "https://localhost:8080/",
     "height": 50
    },
    "outputId": "53233c23-a60b-42e3-fa04-c175fb4d69c1"
   },
   "source": [
    "n = input()\n",
    "print(n)"
   ],
   "execution_count": 4,
   "outputs": [
    {
     "name": "stdout",
     "output_type": "stream",
     "text": [
      "123\n"
     ]
    }
   ]
  },
  {
   "cell_type": "markdown",
   "metadata": {
    "id": "fGDI6-q_DJtp",
    "colab_type": "text"
   },
   "source": [
    "# About I/O in Algorithm\n",
    "\n",
    "\\* I/O : Input and Output\n",
    "\n",
    "## Input에 관련하여...\n",
    "\n",
    "현재 내가 가장 많이 쓰는 input 방식은 다음과 같다\n",
    "```python\n",
    "import sys\n",
    "\n",
    "input = sys.stdin.readline\n",
    "# or\n",
    "# input = lambda: sys.stdin.readline().strip()\n",
    "\n",
    "# 한개 입력\n",
    "N = input()\n",
    "\n",
    "# 여러 개 입력\n",
    "A, B = input().split()\n",
    "# or\n",
    "X, Y = map(int, input().split())\n",
    "\n",
    "# 입력 리스트화 하기\n",
    "my_list = list(input())\n",
    "```\n",
    "\n",
    "이렇게 되면 입력은 한 한줄의 기준으로 불러옵니다. \n",
    "\n",
    "---\n",
    "하지만 이렇게 sys 모듈을 불러와서 \n"
   ]
  },
  {
   "cell_type": "code",
   "metadata": {
    "id": "TfowrzGNDt_W",
    "colab_type": "code",
    "colab": {}
   },
   "source": [
    "# import sys\n",
    "#\n",
    "# input = sys.stdin.readline\n",
    "# or\n",
    "# input = lambda: sys.stdin.readline().strip()\n",
    "\n",
    "# 한개 입력\n",
    "N = input()\n",
    "# N = input(\"Input N\")\n",
    "\n",
    "# 여러 개 입력\n",
    "# A, B = input().split()\n",
    "# A, B = input(\"input A, B :\").split()\n",
    "# or\n",
    "# X, Y = map(int, input().split())\n",
    "\n",
    "# 입력 리스트화 하기\n",
    "my_list = list(input())"
   ],
   "execution_count": 5,
   "outputs": []
  },
  {
   "cell_type": "markdown",
   "metadata": {
    "id": "-p1AVYm7EQhd",
    "colab_type": "text"
   },
   "source": [
    "이렇게 되면 한 줄을 전체로 입력을 받습니다.  \n",
    "여기서 중요한 것은 입력에서 한 줄의 기준이 되는 '\\n'인 Enter까지 받아옵니다"
   ]
  },
  {
   "cell_type": "code",
   "execution_count": 9,
   "outputs": [
    {
     "name": "stdout",
     "output_type": "stream",
     "text": [
      "길이 : 0, 내용 : \n"
     ]
    }
   ],
   "source": [
    "import sys\n",
    "\n",
    "input = lambda : sys.stdin.readline().rstrip()\n",
    "\n",
    "N = sys.stdin.readline()\n",
    "print(\"길이 : {}, 내용 : {}\".format(len(N), N))\n"
   ],
   "metadata": {
    "collapsed": false,
    "pycharm": {
     "name": "#%%\n"
    }
   }
  }
 ]
}